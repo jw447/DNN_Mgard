{
 "cells": [
  {
   "cell_type": "code",
   "execution_count": 1,
   "metadata": {},
   "outputs": [
    {
     "data": {
      "text/plain": [
       "'/Users/jonwang/git_local/DNN_Mgard/notebook'"
      ]
     },
     "execution_count": 1,
     "metadata": {},
     "output_type": "execute_result"
    }
   ],
   "source": [
    "pwd"
   ]
  },
  {
   "cell_type": "code",
   "execution_count": 2,
   "metadata": {
    "executionInfo": {
     "elapsed": 235,
     "status": "ok",
     "timestamp": 1693499930223,
     "user": {
      "displayName": "Jinzhen Wang",
      "userId": "15283478945620550865"
     },
     "user_tz": 240
    },
    "id": "EPqRovO3aKYp"
   },
   "outputs": [],
   "source": [
    "import os\n",
    "os.chdir(\"/Users/jonwang/git_local/DNN_Mgard/notebook\")"
   ]
  },
  {
   "cell_type": "code",
   "execution_count": 3,
   "metadata": {
    "executionInfo": {
     "elapsed": 296,
     "status": "ok",
     "timestamp": 1693500243642,
     "user": {
      "displayName": "Jinzhen Wang",
      "userId": "15283478945620550865"
     },
     "user_tz": 240
    },
    "id": "KdsYKbvIaSr0"
   },
   "outputs": [],
   "source": [
    "import pandas as pd\n",
    "import numpy as np\n",
    "from tqdm import tqdm\n",
    "from scipy.spatial import Delaunay\n",
    "from scipy.spatial import ConvexHull, convex_hull_plot_2d\n",
    "\n",
    "import copy\n",
    "from sklearn import preprocessing\n",
    "\n",
    "import matplotlib.ticker as ticker\n",
    "import matplotlib.pyplot as plt\n",
    "from matplotlib import colormaps\n",
    "\n",
    "from mpl_toolkits.axes_grid1 import make_axes_locatable\n",
    "from mpl_toolkits import mplot3d\n",
    "%matplotlib inline\n",
    "\n",
    "import matplotlib as mpl\n",
    "mpl.rcParams['axes.linewidth'] = 2\n",
    "\n",
    "import seaborn as sns\n",
    "sns.set_style(\"whitegrid\")\n",
    "\n",
    "current_palette = sns.color_palette(\"deep\")\n",
    "# current_palette = sns.color_palette(\"Paired\")\n",
    "\n",
    "fontsize=28"
   ]
  },
  {
   "cell_type": "code",
   "execution_count": 4,
   "metadata": {
    "executionInfo": {
     "elapsed": 238,
     "status": "ok",
     "timestamp": 1693500254468,
     "user": {
      "displayName": "Jinzhen Wang",
      "userId": "15283478945620550865"
     },
     "user_tz": 240
    },
    "id": "g5sxFPAjamX6"
   },
   "outputs": [
    {
     "name": "stderr",
     "output_type": "stream",
     "text": [
      "/Users/jonwang/miniconda3/lib/python3.8/site-packages/tqdm/auto.py:22: TqdmWarning: IProgress not found. Please update jupyter and ipywidgets. See https://ipywidgets.readthedocs.io/en/stable/user_install.html\n",
      "  from .autonotebook import tqdm as notebook_tqdm\n"
     ]
    }
   ],
   "source": [
    "import pandas as pd\n",
    "import numpy as np\n",
    "from tqdm import tqdm\n",
    "import torch\n",
    "import torch.nn as nn\n",
    "import torch.nn.functional as F\n",
    "import torch.utils.data as Data\n",
    "from torch.autograd import Variable\n",
    "from torch.optim import *\n",
    "\n",
    "import copy\n",
    "from sklearn import preprocessing\n",
    "\n",
    "from sklearn.model_selection import train_test_split\n",
    "from sklearn.metrics import accuracy_score\n",
    "\n",
    "import random\n",
    "random.seed(10)"
   ]
  },
  {
   "cell_type": "code",
   "execution_count": 5,
   "metadata": {
    "executionInfo": {
     "elapsed": 3,
     "status": "ok",
     "timestamp": 1693500254695,
     "user": {
      "displayName": "Jinzhen Wang",
      "userId": "15283478945620550865"
     },
     "user_tz": 240
    },
    "id": "u8XgGSx7d3GU"
   },
   "outputs": [],
   "source": [
    "gpu = torch.cuda.is_available()"
   ]
  },
  {
   "cell_type": "code",
   "execution_count": 6,
   "metadata": {
    "executionInfo": {
     "elapsed": 3,
     "status": "ok",
     "timestamp": 1693499940219,
     "user": {
      "displayName": "Jinzhen Wang",
      "userId": "15283478945620550865"
     },
     "user_tz": 240
    },
    "id": "Fz284f5GbPZA"
   },
   "outputs": [],
   "source": [
    "import functools\n",
    "import time\n",
    "\n",
    "def timer(func):\n",
    "    @functools.wraps(func)\n",
    "    def wrapper_timer(*args, **kwargs):\n",
    "        tic = time.perf_counter()\n",
    "        value = func(*args, **kwargs)\n",
    "        toc = time.perf_counter()\n",
    "        elapsed_time = toc - tic\n",
    "        print(f\"{func}:{elapsed_time:0.4f} seconds\")\n",
    "        return value\n",
    "    return wrapper_timer"
   ]
  },
  {
   "cell_type": "code",
   "execution_count": 7,
   "metadata": {
    "executionInfo": {
     "elapsed": 3,
     "status": "ok",
     "timestamp": 1693499940219,
     "user": {
      "displayName": "Jinzhen Wang",
      "userId": "15283478945620550865"
     },
     "user_tz": 240
    },
    "id": "Sw8e6r9pGLvL"
   },
   "outputs": [],
   "source": [
    "Threshold = [0.01, 0.02, 0.03, 0.04, 0.05, 0.06, 0.07, 0.08, 0.09, 0.10,\n",
    "             0.11, 0.12, 0.13, 0.14, 0.15, 0.16, 0.17, 0.18, 0.19, 0.20,\n",
    "             0.21, 0.22, 0.23, 0.24, 0.25, 0.26, 0.27, 0.28, 0.29, 0.30,\n",
    "             0.31, 0.32, 0.33, 0.34, 0.35, 0.36, 0.37, 0.38, 0.39, 0.40]"
   ]
  },
  {
   "cell_type": "code",
   "execution_count": 8,
   "metadata": {
    "executionInfo": {
     "elapsed": 2,
     "status": "ok",
     "timestamp": 1693499940219,
     "user": {
      "displayName": "Jinzhen Wang",
      "userId": "15283478945620550865"
     },
     "user_tz": 240
    },
    "id": "oDRKzvbXaq0D"
   },
   "outputs": [],
   "source": [
    "# # correlation\n",
    "# traintest_data = pd.read_csv(\"traintest_3d_convex.csv\")\n",
    "# traintest_data[\"relerr\"] = [\"%.e\" % number for number in traintest_data.reqerr.values/traintest_data.drange.values]\n",
    "# Relerr = [\"1e-01\", \"1e-03\", \"1e-05\"]\n",
    "\n",
    "# dnames = [\"cloudf48_log\", \"precipf48_log\", \"qgraupf48_log\", \"qicef48_log\",\n",
    "#           \"baryon_density\", \"dark_matter_density\", \"temperature\", \"velocity_x\",\n",
    "#           \"pres-98x1200x1200\", \"qc-98x1200x1200\", \"qg-98x1200x1200\",\"qi-98x1200x1200\",]\n",
    "\n",
    "# plt.rcParams[\"figure.figsize\"] = [20, 15]\n",
    "# fig1 = plt.figure()\n",
    "# for i in np.arange(len(dnames)):\n",
    "\n",
    "#     dname = dnames[i]\n",
    "#     ax1 = fig1.add_subplot(3, 4, i+1)\n",
    "\n",
    "#     for j in np.arange(len(Relerr)):\n",
    "#         relerr = Relerr[j]\n",
    "#         data = traintest_data[(traintest_data.dname.str.contains(dname)) & (traintest_data.relerr == relerr)]\n",
    "\n",
    "#         drange = data.drange.values\n",
    "#         c0 = data.c0.values\n",
    "#         c1 = data.c1.values\n",
    "#         c2 = data.c2.values\n",
    "\n",
    "#         # ax1.plot(np.arange(len(c0)), np.array(c1)*np.array(c2))\n",
    "\n",
    "#         # ax1.plot(np.arange(len(c0)), c0, \"-\", label=\"{}-c0\".format(dname))\n",
    "#         # ax1.plot(np.arange(len(c1)), c1, \"-.\", label=\"{}-c1\".format(dname), color=current_palette[j])\n",
    "#         ax1.plot(np.arange(len(c2)), c2, \"--\", label=\"{}-c2\".format(dname), color=current_palette[j])\n",
    "\n",
    "#     ax1.set_yticks([0, .2, .4, .6, .8, 1, 1.2, 1.4, 1.6]);\n",
    "#     ax1.set_yticklabels([0, .2, .4, .6, .8, 1, 1.2, 1.4, 1.6], fontsize=fontsize);\n",
    "#     ax1.text(0, 1.5, \"dname={}\".format(data.dname.values[0].replace(\".csv\", \"\")), horizontalalignment=\"left\")\n",
    "#     ax1.text(0, 1.4, \"drange={}\".format(data.drange.values[0]), horizontalalignment=\"left\")"
   ]
  },
  {
   "cell_type": "code",
   "execution_count": 9,
   "metadata": {
    "executionInfo": {
     "elapsed": 2,
     "status": "ok",
     "timestamp": 1693499940219,
     "user": {
      "displayName": "Jinzhen Wang",
      "userId": "15283478945620550865"
     },
     "user_tz": 240
    },
    "id": "tDA0Ccpq7bJo"
   },
   "outputs": [],
   "source": [
    "# traintest_data"
   ]
  },
  {
   "cell_type": "code",
   "execution_count": 10,
   "metadata": {
    "executionInfo": {
     "elapsed": 225,
     "status": "ok",
     "timestamp": 1693499946893,
     "user": {
      "displayName": "Jinzhen Wang",
      "userId": "15283478945620550865"
     },
     "user_tz": 240
    },
    "id": "oYRr65C4bCl4"
   },
   "outputs": [],
   "source": [
    "def preprocess(traintest_data, num_lvl, split_ratio=0.2, target=\"c2\", shuffle=True):\n",
    "\n",
    "    df_data_feature = traintest_data[[\"reqerr\", \"threshold\"]].copy()\n",
    "    df_data_target  = traintest_data[[target]].copy()\n",
    "\n",
    "    # if num_lvl == 2:\n",
    "    #     df_data_target  = traintest_data[[\"c0\", \"c1\"]].copy()\n",
    "    # elif num_lvl == 3:\n",
    "    #     df_data_target  = traintest_data[[\"c0\", \"c1\", \"c2\"]].copy()\n",
    "    # elif num_lvl == 4:\n",
    "    #     df_data_target  = traintest_data[[\"c0\", \"c1\", \"c2\", \"c3\"]].copy()\n",
    "\n",
    "    data_feature  = np.array(df_data_feature.astype(\"float32\"))\n",
    "    data_target   = np.array(df_data_target.astype(\"float32\"))\n",
    "\n",
    "    X_train, X_test, Y_train, Y_test = train_test_split(data_feature, data_target, test_size=split_ratio,\n",
    "                                                        shuffle=shuffle, random_state=233)\n",
    "\n",
    "    # normalizer = preprocessing.Normalizer()\n",
    "    # normalized_train_X = normalizer.fit_transform(X_train)\n",
    "    # normalized_test_X  = normalizer.transform(X_test)\n",
    "\n",
    "    # return normalized_train_X, normalized_test_X, Y_train, Y_test\n",
    "    return X_train, X_test, Y_train, Y_test"
   ]
  },
  {
   "cell_type": "code",
   "execution_count": 11,
   "metadata": {
    "executionInfo": {
     "elapsed": 239,
     "status": "ok",
     "timestamp": 1693499952950,
     "user": {
      "displayName": "Jinzhen Wang",
      "userId": "15283478945620550865"
     },
     "user_tz": 240
    },
    "id": "gSNw5oeRbF9z"
   },
   "outputs": [],
   "source": [
    "class MLP(torch.nn.Module):\n",
    "    def __init__(self):\n",
    "        super(MLP, self).__init__()\n",
    "\n",
    "        self.model1 = torch.nn.Sequential(\n",
    "            torch.nn.Linear(2, 8),\n",
    "            torch.nn.LeakyReLU(),\n",
    "            torch.nn.Linear(8, 32),\n",
    "            torch.nn.LeakyReLU(),\n",
    "            torch.nn.Linear(32, 128),\n",
    "            torch.nn.LeakyReLU(),\n",
    "            torch.nn.Linear(128, 32),\n",
    "            torch.nn.LeakyReLU(),\n",
    "            torch.nn.Linear(32, 8),\n",
    "            torch.nn.LeakyReLU(),\n",
    "            torch.nn.Linear(8, 2),\n",
    "            torch.nn.LeakyReLU(),\n",
    "            torch.nn.Linear(2, 1),\n",
    "        )\n",
    "\n",
    "        self.model2 = torch.nn.Sequential(\n",
    "            torch.nn.Linear(2, 16),\n",
    "            torch.nn.LeakyReLU(),\n",
    "            torch.nn.Linear(16, 32),\n",
    "            torch.nn.LeakyReLU(),\n",
    "            torch.nn.Linear(32, 16),\n",
    "            torch.nn.LeakyReLU(),\n",
    "            torch.nn.Linear(16, 2),\n",
    "        )\n",
    "\n",
    "        self.model3 = torch.nn.Sequential(\n",
    "            torch.nn.Linear(2, 16),\n",
    "            torch.nn.LeakyReLU(),\n",
    "            torch.nn.Linear(16, 32),\n",
    "            torch.nn.LeakyReLU(),\n",
    "            torch.nn.Linear(32, 16),\n",
    "            torch.nn.LeakyReLU(),\n",
    "            torch.nn.Linear(16, 3),\n",
    "        )\n",
    "\n",
    "        self.model4 = torch.nn.Sequential(\n",
    "            torch.nn.Linear(2, 16),\n",
    "            torch.nn.LeakyReLU(),\n",
    "            torch.nn.Linear(16, 32),\n",
    "            torch.nn.LeakyReLU(),\n",
    "            torch.nn.Linear(32, 16),\n",
    "            torch.nn.LeakyReLU(),\n",
    "            torch.nn.Linear(16, 4),\n",
    "        )\n",
    "\n",
    "    def forward(self, x):\n",
    "        output = self.main(x)\n",
    "        return output\n",
    "\n",
    "class MyLoss(nn.Module):\n",
    "    def __init__(self):\n",
    "        super(MyLoss, self).__init__()\n",
    "\n",
    "    def forward(self, prediction, target):\n",
    "        loss = torch.nn.L1Loss(reduction='sum')(prediction, target)\n",
    "        return loss"
   ]
  },
  {
   "cell_type": "code",
   "execution_count": 12,
   "metadata": {
    "executionInfo": {
     "elapsed": 340,
     "status": "ok",
     "timestamp": 1693500077367,
     "user": {
      "displayName": "Jinzhen Wang",
      "userId": "15283478945620550865"
     },
     "user_tz": 240
    },
    "id": "XCb9x9bKbJAh"
   },
   "outputs": [],
   "source": [
    "@timer\n",
    "def train(X_train, Y_train, num_lvl, num_epoch, learning_rate):\n",
    "    x_train = Variable(torch.from_numpy(X_train))\n",
    "    y_train = Variable(torch.from_numpy(Y_train))\n",
    "\n",
    "    net = MLP().model1\n",
    "    # if num_lvl == 2:\n",
    "    #     net = MLP().model2\n",
    "    # elif num_lvl == 3:\n",
    "    #     net = MLP().model3\n",
    "    # elif num_lvl == 4:\n",
    "    #     net = MLP().model4\n",
    "\n",
    "    if gpu:\n",
    "        net = net.to(\"cuda\")\n",
    "\n",
    "    optimizer = torch.optim.Adam(net.parameters(), lr=learning_rate)\n",
    "    loss_func = MyLoss()\n",
    "\n",
    "    BATCH_SIZE = 32\n",
    "    EPOCH = num_epoch\n",
    "\n",
    "    torch_dataset = Data.TensorDataset(x_train, y_train)\n",
    "\n",
    "    loader = Data.DataLoader(\n",
    "        dataset=torch_dataset,\n",
    "        batch_size=BATCH_SIZE,\n",
    "        shuffle=True, num_workers=2,)\n",
    "\n",
    "    # start training\n",
    "    print(\"Training: model{}\".format(num_lvl))\n",
    "    for epoch in range(EPOCH):\n",
    "        for step, (batch_x, batch_y) in enumerate(loader): # for each training step\n",
    "            b_x = Variable(batch_x)\n",
    "            b_y = Variable(batch_y)\n",
    "            if gpu:\n",
    "                b_x = b_x.to(\"cuda\")\n",
    "                b_y = b_y.to(\"cuda\")\n",
    "            prediction = net(b_x)     # input x and predict based on x\n",
    "            loss = loss_func(prediction, b_y)     # must be (1. nn output, 2. target)\n",
    "            optimizer.zero_grad()   # clear gradients for next train\n",
    "            loss.backward()         # backpropagation, compute gradients\n",
    "            optimizer.step()        # apply gradients\n",
    "\n",
    "        if epoch % 100 == 0:\n",
    "            if gpu:\n",
    "                print(loss.to(\"cpu\").detach().numpy())\n",
    "            else:\n",
    "                print(loss.detach().numpy())\n",
    "    return net"
   ]
  },
  {
   "cell_type": "code",
   "execution_count": 13,
   "metadata": {
    "executionInfo": {
     "elapsed": 229,
     "status": "ok",
     "timestamp": 1693500126811,
     "user": {
      "displayName": "Jinzhen Wang",
      "userId": "15283478945620550865"
     },
     "user_tz": 240
    },
    "id": "YM3XnNMmbM2A"
   },
   "outputs": [],
   "source": [
    "def inference(feature, net, target):\n",
    "    if gpu:\n",
    "        feature = Variable(torch.from_numpy(feature)).to(\"cuda\")\n",
    "        target = Variable(torch.from_numpy(target)).to(\"cuda\")\n",
    "        prediction = net(feature)\n",
    "        return target.to(\"cpu\").detach().numpy(), prediction.to(\"cpu\").detach().numpy()\n",
    "    else:\n",
    "        feature = Variable(torch.from_numpy(feature))\n",
    "        target = Variable(torch.from_numpy(target))\n",
    "        prediction = net(feature)\n",
    "        return target.detach().numpy(), prediction.detach().numpy()"
   ]
  },
  {
   "cell_type": "code",
   "execution_count": 14,
   "metadata": {
    "executionInfo": {
     "elapsed": 249,
     "status": "ok",
     "timestamp": 1693500128894,
     "user": {
      "displayName": "Jinzhen Wang",
      "userId": "15283478945620550865"
     },
     "user_tz": 240
    },
    "id": "Ediej1isbUzg"
   },
   "outputs": [],
   "source": [
    "def validate_var(net, x_test, y_test):\n",
    "    return inference(x_test, net, y_test)"
   ]
  },
  {
   "cell_type": "code",
   "execution_count": 15,
   "metadata": {
    "executionInfo": {
     "elapsed": 701,
     "status": "ok",
     "timestamp": 1693500131295,
     "user": {
      "displayName": "Jinzhen Wang",
      "userId": "15283478945620550865"
     },
     "user_tz": 240
    },
    "id": "HBTe0He4bXye"
   },
   "outputs": [],
   "source": [
    "dnames = [\"cloudf48_log\", \"precipf48_log\", \"qgraupf48_log\", \"qicef48_log\", #\n",
    "          \"baryon_density\", \"dark_matter_density\", \"temperature\", \"velocity_x\",\n",
    "          \"pres-98x1200x1200\", \"qc-98x1200x1200\", \"qg-98x1200x1200\",\"qi-98x1200x1200\",] #\n",
    "\n",
    "\n",
    "# traintest_data = pd.read_csv(\"traintest_3d_contour.csv\")\n",
    "traintest_data = pd.read_csv(\"traintest_3d_convex.csv\")\n",
    "traintest_data[\"relerr\"] = [\"%.e\" % number for number in traintest_data.reqerr.values/traintest_data.drange.values]"
   ]
  },
  {
   "cell_type": "code",
   "execution_count": null,
   "metadata": {
    "colab": {
     "base_uri": "https://localhost:8080/",
     "height": 968
    },
    "executionInfo": {
     "elapsed": 30658,
     "status": "ok",
     "timestamp": 1693500355310,
     "user": {
      "displayName": "Jinzhen Wang",
      "userId": "15283478945620550865"
     },
     "user_tz": 240
    },
    "id": "VKwQ_4UyyyIh",
    "outputId": "e100d4c5-b8ed-40b9-8d62-bf82a5a55c98"
   },
   "outputs": [
    {
     "name": "stdout",
     "output_type": "stream",
     "text": [
      "Training: model3\n",
      "5.659522\n"
     ]
    }
   ],
   "source": [
    "Relerr = [\"1e-01\", \"1e-03\", \"1e-05\"]\n",
    "# dnames = [\"cloudf48_log\", \"baryon_density\", \"pres-98x1200x1200\"]\n",
    "dnames = [\"cloudf48_log\", \"precipf48_log\", \"qgraupf48_log\", \"qicef48_log\", #\n",
    "          \"baryon_density\", \"dark_matter_density\", \"temperature\", \"velocity_x\",\n",
    "          \"pres-98x1200x1200\", \"qc-98x1200x1200\", \"qg-98x1200x1200\",\"qi-98x1200x1200\",] #\n",
    "\n",
    "for i in np.arange(0, len(dnames)): #   \n",
    "    plt.rcParams[\"figure.figsize\"] = [5*len(Relerr), 5]\n",
    "    fig1 = plt.figure()\n",
    "    \n",
    "    dname = dnames[i]\n",
    "    for j in np.arange(len(Relerr)):\n",
    "        ax1 = fig1.add_subplot(1, len(Relerr), j+1)\n",
    "        relerr = Relerr[j]\n",
    "        data = traintest_data[(traintest_data.dname.str.contains(dname)) & (traintest_data.relerr == relerr)]\n",
    "\n",
    "        X_train, X_test, Y_train, Y_test = preprocess(data, num_lvl=3, split_ratio=0.1, target=\"c2\", shuffle=True)\n",
    "        net = train(X_train, Y_train, num_lvl=3, num_epoch=800, learning_rate=0.01)\n",
    "        torch.save(net.state_dict(), os.path.join(\"./\", \"net_convex_{}_{}_{}.pt\".format(dname, relerr, \"c2\")))\n",
    "        \n",
    "        # loading\n",
    "        # c2\n",
    "        if gpu:\n",
    "            net = MLP().model1.to(\"cuda\")\n",
    "            net.load_state_dict(torch.load(os.path.join(\"./\", \"net_convex_{}_{}_{}.pt\".format(dname, relerr, \"c2\"))))\n",
    "        else:\n",
    "            net = MLP().model1\n",
    "            net.load_state_dict(torch.load(os.path.join(\"./\", \"net_convex_{}_{}_{}.pt\".format(dname, relerr, \"c2\")), map_location=torch.device('cpu')))\n",
    "\n",
    "        X_train, X_test, Y_train, Y_test = preprocess(data, num_lvl=3, split_ratio=0.01, target=\"c2\", shuffle=False)\n",
    "        target, prediction = validate_var(net, X_train, Y_train)\n",
    "\n",
    "        ax1.plot(np.arange(len(target)),     target,     \"-\", color=current_palette[0], lw=3, label=\"{}.trgt\".format(\"c2\"))\n",
    "        ax1.plot(np.arange(len(prediction)), prediction, \"--\", color=current_palette[0], lw=3, label=\"{}.pred\".format(\"c2\"))\n",
    "\n",
    "        # # c1\n",
    "        # if gpu:\n",
    "        #     net = MLP().model1.to(\"cuda\")\n",
    "        #     net.load_state_dict(torch.load(os.path.join(\"./\", \"net_convex_{}_{}_{}.pt\".format(dname, relerr, \"c1\"))))\n",
    "        # else:\n",
    "        #     net = MLP().model1\n",
    "        #     net.load_state_dict(torch.load(os.path.join(\"./\", \"net_convex_{}_{}_{}.pt\".format(dname, relerr, \"c1\")), map_location=torch.device('cpu')))\n",
    "\n",
    "        # X_train, X_test, Y_train, Y_test = preprocess(data, num_lvl=3, split_ratio=0.01, target=\"c1\", shuffle=False)\n",
    "        # target, prediction = validate_var(net, X_train, Y_train)\n",
    "\n",
    "        # ax1.plot(np.arange(len(target)),     target,     \"-\", lw=3, color=current_palette[1], label=\"{}.trgt\".format(\"c1\"))\n",
    "        # ax1.plot(np.arange(len(prediction)), prediction, \"--\", lw=3, color=current_palette[1], label=\"{}.pred\".format(\"c1\"))\n",
    "\n",
    "        ax1.set_xticks([0, 9, 19, 29, 39])\n",
    "        ax1.set_xticklabels([\"1%\", \"10%\", \"20%\", \"30%\", \"40%\"], fontsize=fontsize)\n",
    "        ax1.set_yticks([0, .2, .4, .6, .8, 1, 1.2, 1.4, 1.6]);\n",
    "        ax1.set_yticklabels([0, .2, .4, .6, .8, 1, 1.2, 1.4, 1.6], fontsize=fontsize);\n",
    "        ax1.set_ylim(0, 1.6)\n",
    "        ax1.set_xlabel('Error control threshold', labelpad=10, fontsize=fontsize)\n",
    "        ax1.set_ylabel('Error control factors', labelpad=5, fontsize=fontsize)\n",
    "\n",
    "        ax1.spines[\"bottom\"].set_color(\"black\")\n",
    "        ax1.spines[\"top\"].set_color(\"black\")\n",
    "        ax1.spines[\"right\"].set_color(\"black\")\n",
    "        ax1.spines[\"left\"].set_color(\"black\")\n",
    "        \n",
    "        ax1.text(20, 1.59, \"Relative error = {}\".format(relerr), horizontalalignment='center', verticalalignment='top', fontsize=fontsize*.8)\n",
    "        ax1.legend(frameon=False, fancybox=False, ncol=2, bbox_to_anchor=(.5, .8), loc='center', fontsize=fontsize*.75, handlelength=1, borderpad=.1, columnspacing=.3, labelspacing=.1)\n",
    "\n",
    "    fig1.tight_layout()\n",
    "    # plt.savefig(\"{}_convex_prediction.png\".format(dname.replace(\"_lvl3\", \"\").replace(\".csv\", \"\")), dpi=\"figure\", bbox_inches=\"tight\", format=\"png\")"
   ]
  },
  {
   "cell_type": "code",
   "execution_count": null,
   "metadata": {
    "colab": {
     "base_uri": "https://localhost:8080/",
     "height": 1000
    },
    "executionInfo": {
     "elapsed": 8572040,
     "status": "ok",
     "timestamp": 1693509108081,
     "user": {
      "displayName": "Jinzhen Wang",
      "userId": "15283478945620550865"
     },
     "user_tz": 240
    },
    "id": "Wo3SqnraNuzj",
    "outputId": "2d1dce25-cd8a-4404-fadc-81fe4eee9c94"
   },
   "outputs": [],
   "source": []
  },
  {
   "cell_type": "code",
   "execution_count": null,
   "metadata": {
    "id": "1P9Z68As2aau"
   },
   "outputs": [],
   "source": []
  }
 ],
 "metadata": {
  "accelerator": "GPU",
  "colab": {
   "authorship_tag": "ABX9TyMOU4hJJqDM2KCOjN9JDwhD",
   "gpuType": "T4",
   "mount_file_id": "1H5blyL3m9Vh7MnFVj2OigzerIT3bzQ-H",
   "provenance": []
  },
  "kernelspec": {
   "display_name": "Python 3 (ipykernel)",
   "language": "python",
   "name": "python3"
  },
  "language_info": {
   "codemirror_mode": {
    "name": "ipython",
    "version": 3
   },
   "file_extension": ".py",
   "mimetype": "text/x-python",
   "name": "python",
   "nbconvert_exporter": "python",
   "pygments_lexer": "ipython3",
   "version": "3.8.11"
  }
 },
 "nbformat": 4,
 "nbformat_minor": 4
}
